{
 "cells": [
  {
   "cell_type": "markdown",
   "metadata": {},
   "source": [
    "创建一个文件夹为我理解中的核心"
   ]
  },
  {
   "cell_type": "code",
   "execution_count": 1,
   "metadata": {},
   "outputs": [
    {
     "data": {
      "text/plain": [
       "'bxj\\\\dsg'"
      ]
     },
     "execution_count": 1,
     "metadata": {},
     "output_type": "execute_result"
    }
   ],
   "source": [
    "import os\n",
    "os.path.join('bxj','dsg')\n",
    "# os.getcwd()"
   ]
  },
  {
   "cell_type": "code",
   "execution_count": 2,
   "metadata": {},
   "outputs": [
    {
     "data": {
      "text/plain": [
       "'c:\\\\Users\\\\86195\\\\Desktop\\\\ipynb'"
      ]
     },
     "execution_count": 2,
     "metadata": {},
     "output_type": "execute_result"
    }
   ],
   "source": [
    "import os\n",
    "os.getcwd()"
   ]
  },
  {
   "cell_type": "code",
   "execution_count": 3,
   "metadata": {},
   "outputs": [
    {
     "name": "stdout",
     "output_type": "stream",
     "text": [
      "当前代码文件路径为： c:\\Users\\86195\\Desktop\\ipynb\n",
      "转换相对父文件夹为绝对路径： c:\\Users\\86195\\Desktop\n",
      "判断用..代表父路径下是否为绝对路径： False\n",
      "判断用绝对父路径下是否为绝对路径： True\n"
     ]
    }
   ],
   "source": [
    "import os\n",
    "os.chdir('C:\\\\Users\\\\86195\\\\Desktop\\\\ipynb')\n",
    "print('当前代码文件路径为：',os.getcwd())\n",
    "print('转换相对父文件夹为绝对路径：',os.path.abspath('../')) \n",
    "print('判断用..代表父路径下是否为绝对路径：',os.path.isabs('../'))\n",
    "print('判断用绝对父路径下是否为绝对路径：',os.path.isabs(os.path.abspath('../')))"
   ]
  },
  {
   "cell_type": "code",
   "execution_count": 4,
   "metadata": {},
   "outputs": [],
   "source": [
    "import os\n",
    "os.path.exists('c:\\\\windows')\n",
    "# os.makedirs('c:\\\\Datewhale')\n",
    "os.makedirs('c:\\\\Datewhale\\\\bxj')\n",
    "os.makedirs('c:\\\\Datewhale\\\\wxd')"
   ]
  },
  {
   "cell_type": "code",
   "execution_count": 5,
   "metadata": {},
   "outputs": [
    {
     "data": {
      "text/plain": [
       "['bxj', 'wxd']"
      ]
     },
     "execution_count": 5,
     "metadata": {},
     "output_type": "execute_result"
    }
   ],
   "source": [
    "# os.path.getsize('c:\\\\')\n",
    "os.listdir('c:\\\\Datewhale')"
   ]
  },
  {
   "cell_type": "code",
   "execution_count": 6,
   "metadata": {},
   "outputs": [
    {
     "ename": "FileNotFoundError",
     "evalue": "[WinError 2] 系统找不到指定的文件。: 'c:\\\\Datewhale\\\\bxj\\\\Task01 文件处理与邮件自动化.pdf'",
     "output_type": "error",
     "traceback": [
      "\u001b[1;31m---------------------------------------------------------------------------\u001b[0m",
      "\u001b[1;31mFileNotFoundError\u001b[0m                         Traceback (most recent call last)",
      "\u001b[1;32mc:\\Users\\86195\\Desktop\\ipynb\\1.ipynb Cell 7\u001b[0m in \u001b[0;36m<cell line: 1>\u001b[1;34m()\u001b[0m\n\u001b[1;32m----> <a href='vscode-notebook-cell:/c%3A/Users/86195/Desktop/ipynb/1.ipynb#ch0000006?line=0'>1</a>\u001b[0m os\u001b[39m.\u001b[39;49mpath\u001b[39m.\u001b[39;49mgetsize(\u001b[39m'\u001b[39;49m\u001b[39mc:\u001b[39;49m\u001b[39m\\\\\u001b[39;49;00m\u001b[39mDatewhale\u001b[39;49m\u001b[39m\\\\\u001b[39;49;00m\u001b[39mbxj\u001b[39;49m\u001b[39m\\\\\u001b[39;49;00m\u001b[39mTask01 文件处理与邮件自动化.pdf\u001b[39;49m\u001b[39m'\u001b[39;49m)\n",
      "File \u001b[1;32mc:\\Users\\86195\\AppData\\Local\\Programs\\Python\\Python39\\lib\\genericpath.py:50\u001b[0m, in \u001b[0;36mgetsize\u001b[1;34m(filename)\u001b[0m\n\u001b[0;32m     48\u001b[0m \u001b[39mdef\u001b[39;00m \u001b[39mgetsize\u001b[39m(filename):\n\u001b[0;32m     49\u001b[0m     \u001b[39m\"\"\"Return the size of a file, reported by os.stat().\"\"\"\u001b[39;00m\n\u001b[1;32m---> 50\u001b[0m     \u001b[39mreturn\u001b[39;00m os\u001b[39m.\u001b[39;49mstat(filename)\u001b[39m.\u001b[39mst_size\n",
      "\u001b[1;31mFileNotFoundError\u001b[0m: [WinError 2] 系统找不到指定的文件。: 'c:\\\\Datewhale\\\\bxj\\\\Task01 文件处理与邮件自动化.pdf'"
     ]
    }
   ],
   "source": [
    "os.path.getsize('c:\\\\Datewhale\\\\bxj\\\\Task01 文件处理与邮件自动化.pdf')#只能计算定位到具体的位置的字节数"
   ]
  },
  {
   "cell_type": "code",
   "execution_count": null,
   "metadata": {},
   "outputs": [
    {
     "data": {
      "text/plain": [
       "5617"
      ]
     },
     "execution_count": 12,
     "metadata": {},
     "output_type": "execute_result"
    }
   ],
   "source": [
    "os.path.getsize('c:\\\\Datewhale\\\\bxj\\\\白雪健(2022-2023-1)课表.pdf')"
   ]
  },
  {
   "cell_type": "markdown",
   "metadata": {},
   "source": [
    "只能定位到具体的位置的字节数目，用os.path.getsize()"
   ]
  },
  {
   "cell_type": "code",
   "execution_count": null,
   "metadata": {},
   "outputs": [
    {
     "name": "stdout",
     "output_type": "stream",
     "text": [
      "772766\n"
     ]
    }
   ],
   "source": [
    "totalsize=0\n",
    "for filename in os.listdir('c:\\\\Datewhale\\\\bxj'):\n",
    "    totalsize+=os.path.getsize(os.path.join('c:\\\\Datewhale\\\\bxj',filename))\n",
    "print(totalsize)"
   ]
  },
  {
   "cell_type": "markdown",
   "metadata": {},
   "source": [
    "1.1.5文件的读写操作，重点中的重点把算"
   ]
  },
  {
   "cell_type": "code",
   "execution_count": null,
   "metadata": {},
   "outputs": [
    {
     "name": "stdout",
     "output_type": "stream",
     "text": [
      "<_io.TextIOWrapper name='c:\\\\Datewhale\\\\bxj\\\\3.txt' mode='w' encoding='cp936'>\n"
     ]
    },
    {
     "data": {
      "text/plain": [
       "Counter({'H': 1,\n",
       "         'e': 1,\n",
       "         'l': 3,\n",
       "         'o': 2,\n",
       "         'w': 1,\n",
       "         'r': 1,\n",
       "         'd': 1,\n",
       "         'b': 2,\n",
       "         'x': 1,\n",
       "         'j': 1,\n",
       "         'n': 1})"
      ]
     },
     "execution_count": 30,
     "metadata": {},
     "output_type": "execute_result"
    }
   ],
   "source": [
    "hellofile = open('c:\\\\Datewhale\\\\bxj\\\\3.txt','w')\n",
    "# print(hellofile)\n",
    "print(hellofile)\n",
    "hellofile.write('Hello world\\nbxjnb\\n')\n",
    "hellofile.close()\n",
    "# hellofile = open('c:\\\\Datewhale\\\\bxj\\\\3.txt','r')\n",
    "# for i in hellofile:\n",
    "#     print(i)#虽然生成的是一个对象，但是可以去迭代遍历每一行\n",
    "hellofile = open('c:\\\\Datewhale\\\\bxj\\\\3.txt','a')\n",
    "hellofile.write(\"感恩中国民航大学\")\n",
    "# hellofile = open('c:\\\\Datewhale\\\\bxj\\\\3.txt','r')\n",
    "# helloContent=hellofile.read()\n",
    "# print(helloContent)\n",
    "# print(hellofile)\n",
    "import string\n",
    "from collections import Counter\n",
    "Str=string.ascii_letters\n",
    "# print(Str)\n",
    "l=[]\n",
    "with open('c:\\\\Datewhale\\\\bxj\\\\3.txt') as f:\n",
    "    for i in f:\n",
    "        for j in i:\n",
    "            if j in Str:\n",
    "                l.append(j)\n",
    "counter=Counter(l)\n",
    "counter"
   ]
  },
  {
   "cell_type": "code",
   "execution_count": null,
   "metadata": {},
   "outputs": [],
   "source": [
    "import shelve\n",
    "shelfFile = shelve.open('mydata')\n",
    "cats = ['Zonphie','Pooka','Simon']\n",
    "dogs = ['Alice','Peter']\n",
    "shelfFile['cats'] = cats\n",
    "shelfFile['dogs'] = dogs\n",
    "shelfFile.close()"
   ]
  },
  {
   "cell_type": "code",
   "execution_count": null,
   "metadata": {},
   "outputs": [
    {
     "name": "stdout",
     "output_type": "stream",
     "text": [
      "['Zonphie', 'Pooka', 'Simon']\n",
      "<class 'shelve.DbfilenameShelf'>\n"
     ]
    }
   ],
   "source": [
    "shelfFile = shelve.open('mydata')\n",
    "print(shelfFile['cats'])\n",
    "print(type(shelfFile))"
   ]
  },
  {
   "cell_type": "markdown",
   "metadata": {},
   "source": [
    "如果不用print,它会自动输出最会一行，如果用print，print所指的每一行都会输出"
   ]
  },
  {
   "cell_type": "markdown",
   "metadata": {},
   "source": [
    "下面出现的我把它叫做文件字典。由keys键值和values值两部分组成"
   ]
  },
  {
   "cell_type": "code",
   "execution_count": null,
   "metadata": {},
   "outputs": [
    {
     "name": "stdout",
     "output_type": "stream",
     "text": [
      "['cats', 'dogs']\n",
      "[['Zonphie', 'Pooka', 'Simon'], ['Alice', 'Peter']]\n"
     ]
    }
   ],
   "source": [
    "#取出shelve模块中真正的keys值和values值\n",
    "# shelfFile.close()\n",
    "print(list(shelfFile.keys()))\n",
    "print(list(shelfFile.values()))\n"
   ]
  },
  {
   "cell_type": "markdown",
   "metadata": {},
   "source": [
    "6、pprint.pformat()函数保存变量"
   ]
  },
  {
   "cell_type": "code",
   "execution_count": null,
   "metadata": {},
   "outputs": [
    {
     "name": "stdout",
     "output_type": "stream",
     "text": [
      "[{'name': 'Alice', 'sex': 'girl'}, {'name': 'Peter', 'sex': 'boy'}]\n",
      "4\n",
      "75\n"
     ]
    }
   ],
   "source": [
    "import pprint\n",
    "cats=[{'name':'Alice','sex':'girl'},{'name':'Peter','sex':'boy'}]\n",
    "print(pprint.pformat(cats))\n",
    "fileobj = open('cats.py','w')\n",
    "print(fileobj.write('cats'))\n",
    "print(fileobj.write('cats = '+pprint.pformat(cats)+'\\n'))\n"
   ]
  },
  {
   "cell_type": "code",
   "execution_count": null,
   "metadata": {},
   "outputs": [
    {
     "name": "stdout",
     "output_type": "stream",
     "text": [
      "[{'name': 'Alice', 'sex': 'girl'}, {'name': 'Peter', 'sex': 'boy'}]\n",
      "{'name': 'Alice', 'sex': 'girl'}\n",
      "girl\n"
     ]
    }
   ],
   "source": [
    "import cats\n",
    "print(cats.cats)\n",
    "print(cats.cats[0])\n",
    "print(cats.cats[0]['sex'])"
   ]
  },
  {
   "cell_type": "code",
   "execution_count": null,
   "metadata": {},
   "outputs": [
    {
     "ename": "FileExistsError",
     "evalue": "[WinError 183] 当文件已存在时，无法创建该文件。: 'c:\\\\day1'",
     "output_type": "error",
     "traceback": [
      "\u001b[1;31m---------------------------------------------------------------------------\u001b[0m",
      "\u001b[1;31mFileExistsError\u001b[0m                           Traceback (most recent call last)",
      "\u001b[1;32mc:\\Users\\86195\\Desktop\\ipynb\\1.ipynb Cell 21\u001b[0m in \u001b[0;36m<cell line: 1>\u001b[1;34m()\u001b[0m\n\u001b[1;32m----> <a href='vscode-notebook-cell:/c%3A/Users/86195/Desktop/ipynb/1.ipynb#ch0000020?line=0'>1</a>\u001b[0m os\u001b[39m.\u001b[39;49mmakedirs(\u001b[39m'\u001b[39;49m\u001b[39mc:\u001b[39;49m\u001b[39m\\\\\u001b[39;49;00m\u001b[39mday1\u001b[39;49m\u001b[39m'\u001b[39;49m)\n",
      "File \u001b[1;32mc:\\Users\\86195\\AppData\\Local\\Programs\\Python\\Python39\\lib\\os.py:225\u001b[0m, in \u001b[0;36mmakedirs\u001b[1;34m(name, mode, exist_ok)\u001b[0m\n\u001b[0;32m    223\u001b[0m         \u001b[39mreturn\u001b[39;00m\n\u001b[0;32m    224\u001b[0m \u001b[39mtry\u001b[39;00m:\n\u001b[1;32m--> 225\u001b[0m     mkdir(name, mode)\n\u001b[0;32m    226\u001b[0m \u001b[39mexcept\u001b[39;00m \u001b[39mOSError\u001b[39;00m:\n\u001b[0;32m    227\u001b[0m     \u001b[39m# Cannot rely on checking for EEXIST, since the operating system\u001b[39;00m\n\u001b[0;32m    228\u001b[0m     \u001b[39m# could give priority to other errors like EACCES or EROFS\u001b[39;00m\n\u001b[0;32m    229\u001b[0m     \u001b[39mif\u001b[39;00m \u001b[39mnot\u001b[39;00m exist_ok \u001b[39mor\u001b[39;00m \u001b[39mnot\u001b[39;00m path\u001b[39m.\u001b[39misdir(name):\n",
      "\u001b[1;31mFileExistsError\u001b[0m: [WinError 183] 当文件已存在时，无法创建该文件。: 'c:\\\\day1'"
     ]
    }
   ],
   "source": [
    "os.makedirs('c:\\\\day1')"
   ]
  },
  {
   "cell_type": "markdown",
   "metadata": {},
   "source": [
    "7、shutil模块实现文件的组织，即复制、移动、改名和删除"
   ]
  },
  {
   "cell_type": "markdown",
   "metadata": {},
   "source": [
    "7.1复制"
   ]
  },
  {
   "cell_type": "code",
   "execution_count": null,
   "metadata": {},
   "outputs": [
    {
     "data": {
      "text/plain": [
       "'c:\\\\day1\\\\Task01 文件处理与邮件自动化.pdf'"
      ]
     },
     "execution_count": 8,
     "metadata": {},
     "output_type": "execute_result"
    }
   ],
   "source": [
    "import shutil\n",
    "shutil.copy('c:\\\\Datewhale\\\\bxj\\\\Task01 文件处理与邮件自动化.pdf','c:\\\\day1')\n",
    "# shutil.copy('c:\\\\Datewhale\\\\bxj\\\\白雪健(2022-2023-1)课表.pdf','c:\\\\day1')"
   ]
  },
  {
   "cell_type": "code",
   "execution_count": null,
   "metadata": {},
   "outputs": [
    {
     "data": {
      "text/plain": [
       "'c:\\\\day3'"
      ]
     },
     "execution_count": 13,
     "metadata": {},
     "output_type": "execute_result"
    }
   ],
   "source": [
    "shutil.copytree('c:\\\\Datewhale\\\\bxj','c:\\\\day3')"
   ]
  },
  {
   "cell_type": "markdown",
   "metadata": {},
   "source": [
    "7.2 移动"
   ]
  },
  {
   "cell_type": "code",
   "execution_count": null,
   "metadata": {},
   "outputs": [],
   "source": [
    "os.makedirs('c:\\\\day3')"
   ]
  },
  {
   "cell_type": "code",
   "execution_count": null,
   "metadata": {},
   "outputs": [
    {
     "ename": "Error",
     "evalue": "Destination path 'c:\\day2\\新建 DOCX 文档.docx' already exists",
     "output_type": "error",
     "traceback": [
      "\u001b[1;31m---------------------------------------------------------------------------\u001b[0m",
      "\u001b[1;31mError\u001b[0m                                     Traceback (most recent call last)",
      "\u001b[1;32mc:\\Users\\86195\\Desktop\\ipynb\\1.ipynb Cell 28\u001b[0m in \u001b[0;36m<cell line: 2>\u001b[1;34m()\u001b[0m\n\u001b[0;32m      <a href='vscode-notebook-cell:/c%3A/Users/86195/Desktop/ipynb/1.ipynb#ch0000027?line=0'>1</a>\u001b[0m \u001b[39mimport\u001b[39;00m \u001b[39mshutil\u001b[39;00m\n\u001b[1;32m----> <a href='vscode-notebook-cell:/c%3A/Users/86195/Desktop/ipynb/1.ipynb#ch0000027?line=1'>2</a>\u001b[0m shutil\u001b[39m.\u001b[39;49mmove(\u001b[39m'\u001b[39;49m\u001b[39mc:\u001b[39;49m\u001b[39m\\\\\u001b[39;49;00m\u001b[39mday5\u001b[39;49m\u001b[39m\\\\\u001b[39;49;00m\u001b[39m新建 DOCX 文档.docx\u001b[39;49m\u001b[39m'\u001b[39;49m,\u001b[39m'\u001b[39;49m\u001b[39mc:\u001b[39;49m\u001b[39m\\\\\u001b[39;49;00m\u001b[39mday2\u001b[39;49m\u001b[39m'\u001b[39;49m)\n",
      "File \u001b[1;32mc:\\Users\\86195\\AppData\\Local\\Programs\\Python\\Python39\\lib\\shutil.py:821\u001b[0m, in \u001b[0;36mmove\u001b[1;34m(src, dst, copy_function)\u001b[0m\n\u001b[0;32m    818\u001b[0m     real_dst \u001b[39m=\u001b[39m os\u001b[39m.\u001b[39mpath\u001b[39m.\u001b[39mjoin(dst, _basename(src))\n\u001b[0;32m    820\u001b[0m     \u001b[39mif\u001b[39;00m os\u001b[39m.\u001b[39mpath\u001b[39m.\u001b[39mexists(real_dst):\n\u001b[1;32m--> 821\u001b[0m         \u001b[39mraise\u001b[39;00m Error(\u001b[39m\"\u001b[39m\u001b[39mDestination path \u001b[39m\u001b[39m'\u001b[39m\u001b[39m%s\u001b[39;00m\u001b[39m'\u001b[39m\u001b[39m already exists\u001b[39m\u001b[39m\"\u001b[39m \u001b[39m%\u001b[39m real_dst)\n\u001b[0;32m    822\u001b[0m \u001b[39mtry\u001b[39;00m:\n\u001b[0;32m    823\u001b[0m     os\u001b[39m.\u001b[39mrename(src, real_dst)\n",
      "\u001b[1;31mError\u001b[0m: Destination path 'c:\\day2\\新建 DOCX 文档.docx' already exists"
     ]
    }
   ],
   "source": [
    "import shutil\n",
    "shutil.move('c:\\\\day5\\\\新建 DOCX 文档.docx','c:\\\\day2')"
   ]
  },
  {
   "cell_type": "markdown",
   "metadata": {},
   "source": [
    "7.3删除"
   ]
  },
  {
   "cell_type": "code",
   "execution_count": null,
   "metadata": {},
   "outputs": [],
   "source": [
    "import os\n",
    "os.unlink('C:\\\\day2\\\\Task01 文件处理与邮件自动化.pdf')"
   ]
  },
  {
   "cell_type": "code",
   "execution_count": null,
   "metadata": {},
   "outputs": [],
   "source": [
    "import send2trash\n",
    "send2trash.send2trash('c:\\\\day2\\\\白雪健(2022-2023-1)课表.pdf')"
   ]
  },
  {
   "cell_type": "markdown",
   "metadata": {},
   "source": [
    "8、遍历目录树"
   ]
  },
  {
   "cell_type": "code",
   "execution_count": null,
   "metadata": {},
   "outputs": [],
   "source": []
  },
  {
   "cell_type": "markdown",
   "metadata": {},
   "source": [
    "9、用zipfile模块"
   ]
  },
  {
   "cell_type": "code",
   "execution_count": 8,
   "metadata": {},
   "outputs": [],
   "source": [
    "import zipfile\n",
    "newZip = zipfile.ZipFile('C:\\\\Users\\\\86195\\\\Desktop\\\\new.zip','w')\n",
    "newZip.write('c:\\\\day1\\\\Task01 文件处理与邮件自动化.pdf',compress_type=zipfile.ZIP_DEFLATED)\n",
    "newZip.close() "
   ]
  },
  {
   "cell_type": "code",
   "execution_count": 9,
   "metadata": {},
   "outputs": [],
   "source": [
    "newZip = zipfile.ZipFile('C:\\\\Users\\\\86195\\\\Desktop\\\\new.zip','a')\n",
    "newZip.write('c:\\\\day2\\\\新建 DOCX 文档.docx',compress_type=zipfile.ZIP_DEFLATED)\n",
    "newZip.close()"
   ]
  },
  {
   "cell_type": "code",
   "execution_count": 10,
   "metadata": {},
   "outputs": [
    {
     "data": {
      "text/plain": [
       "['day1/Task01 文件处理与邮件自动化.pdf', 'day2/新建 DOCX 文档.docx']"
      ]
     },
     "execution_count": 10,
     "metadata": {},
     "output_type": "execute_result"
    }
   ],
   "source": [
    "exampleZip = zipfile.ZipFile('C:\\\\Users\\\\86195\\\\Desktop\\\\new.zip')\n",
    "exampleZip.namelist()"
   ]
  },
  {
   "cell_type": "code",
   "execution_count": 11,
   "metadata": {},
   "outputs": [
    {
     "name": "stdout",
     "output_type": "stream",
     "text": [
      "767149\n",
      "728549\n"
     ]
    }
   ],
   "source": [
    "catIfo = exampleZip.getinfo('day1/Task01 文件处理与邮件自动化.pdf') \n",
    "print(catIfo.file_size)\n",
    "print(catIfo.compress_size)\n",
    "exampleZip.close()"
   ]
  },
  {
   "cell_type": "markdown",
   "metadata": {},
   "source": [
    "从zip文件中解压缩提取文件"
   ]
  },
  {
   "cell_type": "code",
   "execution_count": 13,
   "metadata": {},
   "outputs": [],
   "source": [
    "import os ,zipfile\n",
    "exampleZip = zipfile.ZipFile('C:\\\\Users\\\\86195\\\\Desktop\\\\new.zip')\n",
    "exampleZip.extractall('c:\\\\day6')\n",
    "exampleZip.close()"
   ]
  },
  {
   "cell_type": "code",
   "execution_count": 14,
   "metadata": {},
   "outputs": [],
   "source": [
    "exampleZip = zipfile.ZipFile('C:\\\\Users\\\\86195\\\\Desktop\\\\new.zip')\n",
    "exampleZip.extract('day1/Task01 文件处理与邮件自动化.pdf','c:\\\\day1')\n",
    "exampleZip.close()"
   ]
  },
  {
   "cell_type": "code",
   "execution_count": 23,
   "metadata": {},
   "outputs": [
    {
     "data": {
      "text/plain": [
       "['C:1.ipynb',\n",
       " 'C:cats.py',\n",
       " 'C:mydata.bak',\n",
       " 'C:mydata.dat',\n",
       " 'C:mydata.dir',\n",
       " 'C:new zip',\n",
       " 'C:__pycache__']"
      ]
     },
     "execution_count": 23,
     "metadata": {},
     "output_type": "execute_result"
    }
   ],
   "source": [
    "import glob\n",
    "glob.glob(r'C:*')"
   ]
  },
  {
   "cell_type": "markdown",
   "metadata": {},
   "source": [
    "自动发送邮箱"
   ]
  },
  {
   "cell_type": "code",
   "execution_count": 6,
   "metadata": {},
   "outputs": [
    {
     "name": "stdout",
     "output_type": "stream",
     "text": [
      "邮件发送成功\n"
     ]
    },
    {
     "data": {
      "text/plain": [
       "<bound method SMTP.quit of <smtplib.SMTP_SSL object at 0x000002E1491CFE80>>"
      ]
     },
     "execution_count": 6,
     "metadata": {},
     "output_type": "execute_result"
    }
   ],
   "source": [
    "#1 先导入相关的库和方法\n",
    "import smtplib #导入库\n",
    "from smtplib import SMTP_SSL #加密邮件内容，防止中途被截获\n",
    "from email.mime.text import MIMEText #构造邮件的正文\n",
    "from email.mime.image import MIMEImage #构造邮件的图片\n",
    "from email.mime.multipart import MIMEMultipart #把邮件的各个部分装在一起，邮件的主体\n",
    "from email.header import Header #邮件的文件头，标题，收件人\n",
    "\n",
    "#2 设置邮箱域名、发件人邮箱、邮箱授权码、收件人邮箱\n",
    "host_server = 'smtp.163.com' #sina 邮箱smtp服务器 #smtp 服务器的地址\n",
    "sender_163 = 'xxxxxx' #sender_163为发件人的邮箱\n",
    "pwd = 'xxxxxx' #pwd为邮箱的授权码'DYEPOGLZDZYLOMRI'\n",
    "#也可以自己注册个邮箱，邮箱授权码'DYEPOGLZDZYLOMRI' 获取方式可参考#http://help.163.com/14/0923/22/A6S1FMJD00754KNP.html\n",
    "# 设置接受邮箱，换成自己的邮箱即可\n",
    "receiver = 'xxxxxxx'\n",
    "\n",
    "#3 构建MIMEMultipart对象代表邮件本身，可以往里面添加文本、图片、附件等\n",
    "msg = MIMEMultipart() #邮件主体\n",
    "\n",
    "#4 设置邮件头部内容\n",
    "mail_title = 'python办公自动化邮件' # 邮件标题\n",
    "msg[\"Subject\"] = Header(mail_title,'utf-8') #装入主体\n",
    "msg[\"From\"] = sender_163 #寄件人\n",
    "msg[\"To\"] = Header(\"测试邮箱\",'utf-8') #标题\n",
    "\n",
    "#5 添加正文文本\n",
    "mail_content = \"您好,这是使用python登录163邮箱发送邮件的测试\" #邮件的正文内容\n",
    "message_text = MIMEText(mail_content,'plain','utf-8') #构造文本,参数1：正文内容，参数2：文本格式，参数3：编码方式\n",
    "msg.attach(message_text) # 向MIMEMultipart对象中添加文本对象\n",
    "\n",
    "#6 添加图片\n",
    "image_data = open('C:\\\\Users\\\\86195\\\\OneDrive\\\\图片\\\\Saved Pictures\\\\微信图片_20220712235731.png','rb') # 二进制读取图片\n",
    "message_image = MIMEImage(image_data.read()) # 设置读取获取的二进制数据\n",
    "image_data.close() # 关闭刚才打开的文件\n",
    "message_image.add_header('Content-Disposition','attachment',filename='filename.png')\n",
    "msg.attach(message_image) # 添加图片文件到邮件信息当中去\n",
    "\n",
    "# 7 添加附件(excel表格)\n",
    "atta = MIMEText(open('c:\\\\day1\\\\Task01 文件处理与邮件自动化.pdf', 'rb').read(), 'base64','utf-8') # 构造附件\n",
    "atta[\"Content-Disposition\"] = 'attachment; filename=\"bxj.pdf\"' # 设置附件信息\n",
    "msg.attach(atta) ## 添加附件到邮件信息当中去\n",
    "\n",
    "#8 发送邮件\n",
    "smtp = SMTP_SSL(host_server) #SSL登录 创建SMTP对象\n",
    "smtp.login(sender_163,pwd) ## 登录邮箱，传递参数1：邮箱地址，参数2：邮箱授权码\n",
    "smtp.sendmail(sender_163,receiver,msg.as_string()) # 发送邮件，传递参数1：发件人邮箱地址，参数2：收件人邮箱地址，参数3：把邮件内容格式改为str\n",
    "print(\"邮件发送成功\")\n",
    "smtp.quit # 关闭SMTP对象"
   ]
  }
 ],
 "metadata": {
  "kernelspec": {
   "display_name": "Python 3.9.12 64-bit",
   "language": "python",
   "name": "python3"
  },
  "language_info": {
   "codemirror_mode": {
    "name": "ipython",
    "version": 3
   },
   "file_extension": ".py",
   "mimetype": "text/x-python",
   "name": "python",
   "nbconvert_exporter": "python",
   "pygments_lexer": "ipython3",
   "version": "3.9.12"
  },
  "orig_nbformat": 4,
  "vscode": {
   "interpreter": {
    "hash": "5c039ace0183a628dec2f7d807eacaf683e0ad7cb152c7db3ed98f0130cc300c"
   }
  }
 },
 "nbformat": 4,
 "nbformat_minor": 2
}
